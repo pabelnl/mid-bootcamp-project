{
 "cells": [
  {
   "cell_type": "code",
   "execution_count": 409,
   "id": "14fbcead",
   "metadata": {},
   "outputs": [],
   "source": [
    "import pandas as pd\n",
    "import numpy as np\n",
    "import datetime\n",
    "import warnings\n",
    "\n",
    "warnings.filterwarnings('ignore')\n",
    "warnings.filterwarnings(\"ignore\", message=\"numpy.ufunc size changed\")\n",
    "\n",
    "import matplotlib.pyplot as plt\n",
    "import seaborn as sns\n",
    "%matplotlib inline  \n",
    "\n",
    "pd.set_option('display.max_columns', None)\n",
    "from feature_engine.imputation import RandomSampleImputer\n",
    "from sklearn.model_selection import train_test_split\n",
    "from sklearn.metrics import r2_score\n",
    "from sklearn.preprocessing import OneHotEncoder\n",
    "from sklearn.preprocessing import StandardScaler\n",
    "from sklearn.neighbors import KNeighborsRegressor,KNeighborsClassifier\n",
    "from sklearn.tree import DecisionTreeClassifier\n",
    "from sklearn.linear_model import LogisticRegression\n",
    "from sklearn.metrics import mean_squared_error\n",
    "from scipy.stats import chi2_contingency\n",
    "from sklearn.metrics import accuracy_score"
   ]
  },
  {
   "cell_type": "code",
   "execution_count": 410,
   "id": "ce4254c3",
   "metadata": {},
   "outputs": [
    {
     "data": {
      "text/html": [
       "<div>\n",
       "<style scoped>\n",
       "    .dataframe tbody tr th:only-of-type {\n",
       "        vertical-align: middle;\n",
       "    }\n",
       "\n",
       "    .dataframe tbody tr th {\n",
       "        vertical-align: top;\n",
       "    }\n",
       "\n",
       "    .dataframe thead th {\n",
       "        text-align: right;\n",
       "    }\n",
       "</style>\n",
       "<table border=\"1\" class=\"dataframe\">\n",
       "  <thead>\n",
       "    <tr style=\"text-align: right;\">\n",
       "      <th></th>\n",
       "      <th>Customer Number</th>\n",
       "      <th>Offer Accepted</th>\n",
       "      <th>Reward</th>\n",
       "      <th>Mailer Type</th>\n",
       "      <th>Income Level</th>\n",
       "      <th># Bank Accounts Open</th>\n",
       "      <th>Overdraft Protection</th>\n",
       "      <th>Credit Rating</th>\n",
       "      <th># Credit Cards Held</th>\n",
       "      <th># Homes Owned</th>\n",
       "      <th>Household Size</th>\n",
       "      <th>Own Your Home</th>\n",
       "      <th>Average Balance</th>\n",
       "      <th>Q1 Balance</th>\n",
       "      <th>Q2 Balance</th>\n",
       "      <th>Q3 Balance</th>\n",
       "      <th>Q4 Balance</th>\n",
       "    </tr>\n",
       "  </thead>\n",
       "  <tbody>\n",
       "    <tr>\n",
       "      <th>0</th>\n",
       "      <td>1</td>\n",
       "      <td>No</td>\n",
       "      <td>Air Miles</td>\n",
       "      <td>Letter</td>\n",
       "      <td>High</td>\n",
       "      <td>1</td>\n",
       "      <td>No</td>\n",
       "      <td>High</td>\n",
       "      <td>2</td>\n",
       "      <td>1</td>\n",
       "      <td>4</td>\n",
       "      <td>No</td>\n",
       "      <td>1160.75</td>\n",
       "      <td>1669.0</td>\n",
       "      <td>877.0</td>\n",
       "      <td>1095.0</td>\n",
       "      <td>1002.0</td>\n",
       "    </tr>\n",
       "    <tr>\n",
       "      <th>1</th>\n",
       "      <td>2</td>\n",
       "      <td>No</td>\n",
       "      <td>Air Miles</td>\n",
       "      <td>Letter</td>\n",
       "      <td>Medium</td>\n",
       "      <td>1</td>\n",
       "      <td>No</td>\n",
       "      <td>Medium</td>\n",
       "      <td>2</td>\n",
       "      <td>2</td>\n",
       "      <td>5</td>\n",
       "      <td>Yes</td>\n",
       "      <td>147.25</td>\n",
       "      <td>39.0</td>\n",
       "      <td>106.0</td>\n",
       "      <td>78.0</td>\n",
       "      <td>366.0</td>\n",
       "    </tr>\n",
       "    <tr>\n",
       "      <th>2</th>\n",
       "      <td>3</td>\n",
       "      <td>No</td>\n",
       "      <td>Air Miles</td>\n",
       "      <td>Postcard</td>\n",
       "      <td>High</td>\n",
       "      <td>2</td>\n",
       "      <td>No</td>\n",
       "      <td>Medium</td>\n",
       "      <td>2</td>\n",
       "      <td>1</td>\n",
       "      <td>2</td>\n",
       "      <td>Yes</td>\n",
       "      <td>276.50</td>\n",
       "      <td>367.0</td>\n",
       "      <td>352.0</td>\n",
       "      <td>145.0</td>\n",
       "      <td>242.0</td>\n",
       "    </tr>\n",
       "    <tr>\n",
       "      <th>3</th>\n",
       "      <td>4</td>\n",
       "      <td>No</td>\n",
       "      <td>Air Miles</td>\n",
       "      <td>Letter</td>\n",
       "      <td>Medium</td>\n",
       "      <td>2</td>\n",
       "      <td>No</td>\n",
       "      <td>High</td>\n",
       "      <td>1</td>\n",
       "      <td>1</td>\n",
       "      <td>4</td>\n",
       "      <td>No</td>\n",
       "      <td>1219.00</td>\n",
       "      <td>1578.0</td>\n",
       "      <td>1760.0</td>\n",
       "      <td>1119.0</td>\n",
       "      <td>419.0</td>\n",
       "    </tr>\n",
       "    <tr>\n",
       "      <th>4</th>\n",
       "      <td>5</td>\n",
       "      <td>No</td>\n",
       "      <td>Air Miles</td>\n",
       "      <td>Letter</td>\n",
       "      <td>Medium</td>\n",
       "      <td>1</td>\n",
       "      <td>No</td>\n",
       "      <td>Medium</td>\n",
       "      <td>2</td>\n",
       "      <td>1</td>\n",
       "      <td>6</td>\n",
       "      <td>Yes</td>\n",
       "      <td>1211.00</td>\n",
       "      <td>2140.0</td>\n",
       "      <td>1357.0</td>\n",
       "      <td>982.0</td>\n",
       "      <td>365.0</td>\n",
       "    </tr>\n",
       "  </tbody>\n",
       "</table>\n",
       "</div>"
      ],
      "text/plain": [
       "   Customer Number Offer Accepted     Reward Mailer Type Income Level  \\\n",
       "0                1             No  Air Miles      Letter         High   \n",
       "1                2             No  Air Miles      Letter       Medium   \n",
       "2                3             No  Air Miles    Postcard         High   \n",
       "3                4             No  Air Miles      Letter       Medium   \n",
       "4                5             No  Air Miles      Letter       Medium   \n",
       "\n",
       "   # Bank Accounts Open Overdraft Protection Credit Rating  \\\n",
       "0                     1                   No          High   \n",
       "1                     1                   No        Medium   \n",
       "2                     2                   No        Medium   \n",
       "3                     2                   No          High   \n",
       "4                     1                   No        Medium   \n",
       "\n",
       "   # Credit Cards Held  # Homes Owned  Household Size Own Your Home  \\\n",
       "0                    2              1               4            No   \n",
       "1                    2              2               5           Yes   \n",
       "2                    2              1               2           Yes   \n",
       "3                    1              1               4            No   \n",
       "4                    2              1               6           Yes   \n",
       "\n",
       "   Average Balance  Q1 Balance  Q2 Balance  Q3 Balance  Q4 Balance  \n",
       "0          1160.75      1669.0       877.0      1095.0      1002.0  \n",
       "1           147.25        39.0       106.0        78.0       366.0  \n",
       "2           276.50       367.0       352.0       145.0       242.0  \n",
       "3          1219.00      1578.0      1760.0      1119.0       419.0  \n",
       "4          1211.00      2140.0      1357.0       982.0       365.0  "
      ]
     },
     "execution_count": 410,
     "metadata": {},
     "output_type": "execute_result"
    }
   ],
   "source": [
    "data = pd.read_excel(\"creditcardmarketing.xlsx\")\n",
    "data.head()"
   ]
  },
  {
   "cell_type": "code",
   "execution_count": 411,
   "id": "a08e04cb",
   "metadata": {},
   "outputs": [
    {
     "data": {
      "text/plain": [
       "(18000, 17)"
      ]
     },
     "execution_count": 411,
     "metadata": {},
     "output_type": "execute_result"
    }
   ],
   "source": [
    "data.shape"
   ]
  },
  {
   "cell_type": "code",
   "execution_count": 412,
   "id": "5a3c1c2d",
   "metadata": {},
   "outputs": [
    {
     "data": {
      "text/plain": [
       "Index(['customer_number', 'offer_accepted', 'reward', 'mailer_type',\n",
       "       'income_level', 'bank_accounts_open', 'overdraft_protection',\n",
       "       'credit_rating', 'credit_cards_held', 'homes_owned', 'household_size',\n",
       "       'own_your_home', 'average_balance', 'q1_balance', 'q2_balance',\n",
       "       'q3_balance', 'q4_balance'],\n",
       "      dtype='object')"
      ]
     },
     "execution_count": 412,
     "metadata": {},
     "output_type": "execute_result"
    }
   ],
   "source": [
    "# Formatting column names\n",
    "data.columns = list(map(lambda x: x.lower().replace(\"# \",\"\").replace(\" \",\"_\"), data.columns))\n",
    "data.columns"
   ]
  },
  {
   "cell_type": "code",
   "execution_count": 413,
   "id": "3f071245",
   "metadata": {},
   "outputs": [
    {
     "name": "stdout",
     "output_type": "stream",
     "text": [
      "customer_number           int64\n",
      "offer_accepted           object\n",
      "reward                   object\n",
      "mailer_type              object\n",
      "income_level             object\n",
      "bank_accounts_open        int64\n",
      "overdraft_protection     object\n",
      "credit_rating            object\n",
      "credit_cards_held         int64\n",
      "homes_owned               int64\n",
      "household_size            int64\n",
      "own_your_home            object\n",
      "average_balance         float64\n",
      "q1_balance              float64\n",
      "q2_balance              float64\n",
      "q3_balance              float64\n",
      "q4_balance              float64\n",
      "dtype: object\n",
      "===========================\n",
      "customer_number          0\n",
      "offer_accepted           0\n",
      "reward                   0\n",
      "mailer_type              0\n",
      "income_level             0\n",
      "bank_accounts_open       0\n",
      "overdraft_protection     0\n",
      "credit_rating            0\n",
      "credit_cards_held        0\n",
      "homes_owned              0\n",
      "household_size           0\n",
      "own_your_home            0\n",
      "average_balance         24\n",
      "q1_balance              24\n",
      "q2_balance              24\n",
      "q3_balance              24\n",
      "q4_balance              24\n",
      "dtype: int64\n"
     ]
    }
   ],
   "source": [
    "# Checking dtype of the columns and for nans\n",
    "print(data.dtypes)\n",
    "print(\"===========================\")\n",
    "print(data.isna().sum())"
   ]
  },
  {
   "cell_type": "code",
   "execution_count": 414,
   "id": "71df9a81",
   "metadata": {},
   "outputs": [
    {
     "name": "stdout",
     "output_type": "stream",
     "text": [
      "1    13692\n",
      "2     4012\n",
      "3      296\n",
      "Name: bank_accounts_open, dtype: int64\n",
      "2    7944\n",
      "1    6154\n",
      "3    3387\n",
      "4     515\n",
      "Name: credit_cards_held, dtype: int64\n",
      "1    14523\n",
      "2     3292\n",
      "3      185\n",
      "Name: homes_owned, dtype: int64\n",
      "3    5712\n",
      "4    5543\n",
      "5    2853\n",
      "2    2813\n",
      "1     539\n",
      "6     538\n",
      "8       1\n",
      "9       1\n",
      "Name: household_size, dtype: int64\n"
     ]
    }
   ],
   "source": [
    "# Checking value counts bank_accounts_open, credit_cards_held, homes_owned, household_size\n",
    "for col in [\"bank_accounts_open\",\"credit_cards_held\",\"homes_owned\",\"household_size\"]:\n",
    "    print(data[col].value_counts())"
   ]
  },
  {
   "cell_type": "code",
   "execution_count": 415,
   "id": "f5539e6c",
   "metadata": {},
   "outputs": [],
   "source": [
    "# Based on the first observation\n",
    "# 1- customer_number is not needed\n",
    "data.drop([\"customer_number\"],axis=1, inplace=True)\n",
    "# 2- offer_accepted is the target based on the business requirements\n",
    "# 3- bank_accounts_open, credit_cards_held, homes_owned, household_size can be categorical\n",
    "# 4- Last four columns has nan values, will replace them using RandomSampleImputer"
   ]
  },
  {
   "cell_type": "code",
   "execution_count": 416,
   "id": "30a6c7ff",
   "metadata": {},
   "outputs": [
    {
     "data": {
      "text/plain": [
       "Few         13692\n",
       "Moderate     4012\n",
       "Many          296\n",
       "Name: bank_accounts_open_, dtype: int64"
      ]
     },
     "execution_count": 416,
     "metadata": {},
     "output_type": "execute_result"
    }
   ],
   "source": [
    "# Changing bank_accounts_open to categorical\n",
    "bao_bins = [0,1,2,3]\n",
    "bao_labels = [\"Few\",\"Moderate\",\"Many\"]\n",
    "data['bank_accounts_open_'] = pd.cut(data['bank_accounts_open'], bins=bao_bins, labels=bao_labels)\n",
    "data['bank_accounts_open_'] = data['bank_accounts_open_'].astype('object')\n",
    "# Dropping original column\n",
    "data.drop([\"bank_accounts_open\"], axis=1, inplace=True)\n",
    "data[\"bank_accounts_open_\"].value_counts()"
   ]
  },
  {
   "cell_type": "code",
   "execution_count": 417,
   "id": "32be45d9",
   "metadata": {},
   "outputs": [
    {
     "data": {
      "text/plain": [
       "Low         7944\n",
       "Minimal     6154\n",
       "Moderate    3387\n",
       "High         515\n",
       "Name: credit_cards_held_, dtype: int64"
      ]
     },
     "execution_count": 417,
     "metadata": {},
     "output_type": "execute_result"
    }
   ],
   "source": [
    "# Changing credit_cards_held to categorical\n",
    "cch_bins = [0, 1, 2, 3, 4]\n",
    "cch_labels = [\"Minimal\",\"Low\",\"Moderate\",\"High\"]\n",
    "data['credit_cards_held_'] = pd.cut(data['credit_cards_held'], bins=cch_bins, labels=cch_labels)\n",
    "data['credit_cards_held_'] = data['credit_cards_held_'].astype('object')\n",
    "# Dropping original column\n",
    "data.drop([\"credit_cards_held\"], axis=1, inplace=True)\n",
    "data[\"credit_cards_held_\"].value_counts()"
   ]
  },
  {
   "cell_type": "code",
   "execution_count": 418,
   "id": "831c47ba",
   "metadata": {},
   "outputs": [
    {
     "data": {
      "text/plain": [
       "One      14523\n",
       "Two       3292\n",
       "Three      185\n",
       "Name: homes_owned_, dtype: int64"
      ]
     },
     "execution_count": 418,
     "metadata": {},
     "output_type": "execute_result"
    }
   ],
   "source": [
    "# Changing homes_owned to categorical\n",
    "ho_bins = [0, 1, 2, 3]\n",
    "ho_labels = [\"One\",\"Two\",\"Three\"]\n",
    "data['homes_owned_'] = pd.cut(data['homes_owned'], bins=ho_bins, labels=ho_labels)\n",
    "data['homes_owned_'] = data['homes_owned_'].astype('object')\n",
    "# Dropping original column\n",
    "data.drop([\"homes_owned\"], axis=1, inplace=True)\n",
    "data[\"homes_owned_\"].value_counts()"
   ]
  },
  {
   "cell_type": "code",
   "execution_count": 419,
   "id": "b64bd812",
   "metadata": {},
   "outputs": [
    {
     "data": {
      "text/plain": [
       "Medium    11255\n",
       "Large      3391\n",
       "Small      3352\n",
       "Name: household_size_, dtype: int64"
      ]
     },
     "execution_count": 419,
     "metadata": {},
     "output_type": "execute_result"
    }
   ],
   "source": [
    "# Changing household_size to categorical\n",
    "# column has 2 outliers with 1 value each, filtering and dropping those records\n",
    "data = data[data[\"household_size\"] <= 6]\n",
    "hs_bins = [0, 2, 4, 6]\n",
    "hs_labels = ['Small', 'Medium', 'Large']\n",
    "data['household_size_'] = pd.cut(data['household_size'], bins=hs_bins, labels=hs_labels)\n",
    "data['household_size_'].astype('object')\n",
    "# Dropping original column\n",
    "data.drop([\"household_size\"], axis=1, inplace=True)\n",
    "data[\"household_size_\"].value_counts()"
   ]
  },
  {
   "cell_type": "code",
   "execution_count": 420,
   "id": "df139779",
   "metadata": {},
   "outputs": [
    {
     "data": {
      "text/plain": [
       "offer_accepted          0\n",
       "reward                  0\n",
       "mailer_type             0\n",
       "income_level            0\n",
       "overdraft_protection    0\n",
       "credit_rating           0\n",
       "own_your_home           0\n",
       "average_balance         0\n",
       "q1_balance              0\n",
       "q2_balance              0\n",
       "q3_balance              0\n",
       "q4_balance              0\n",
       "bank_accounts_open_     0\n",
       "credit_cards_held_      0\n",
       "homes_owned_            0\n",
       "household_size_         0\n",
       "dtype: int64"
      ]
     },
     "execution_count": 420,
     "metadata": {},
     "output_type": "execute_result"
    }
   ],
   "source": [
    "# Solving nan Values -----\n",
    "# Since the amount of nan's is 120 total, compared to the total records of 18,000 I will proceed\n",
    "# with using RandomSampleImputer to replace nan values with random sample data from the dataframe\n",
    "imputer = RandomSampleImputer(random_state=42)\n",
    "data = imputer.fit_transform(data)\n",
    "data.isna().sum()"
   ]
  },
  {
   "cell_type": "code",
   "execution_count": 421,
   "id": "c2721a81",
   "metadata": {},
   "outputs": [],
   "source": [
    "# Remove outliers function\n",
    "def process_outliers(df,col,limit = 3,u_iqr = 1.5,l_iqr = 1.5, remove=True):\n",
    "    print(f\"Using limit: {limit},u_iqr: {u_iqr}, l_iqr: {l_iqr}\")\n",
    "    \n",
    "    iqr = np.percentile(df[col], 75) - np.percentile(df[col], 25)\n",
    "    u_limit = np.percentile(df[col], 75) + u_iqr*iqr\n",
    "    l_limit = np.percentile(df[col], 25) - l_iqr*iqr\n",
    "    outliers = df[(df[col]<l_limit) | (df[col]>u_limit)]\n",
    "    \n",
    "    # Check what percentage of the data will be removed by cleaning the ourliers\n",
    "    percentage_outliers = outliers.shape[0]/df.shape[0]*100\n",
    "    print(\"DataFrame shape:\",df.shape)\n",
    "    print(\"Column \",col,\"outliers shape:\",outliers.shape)\n",
    "    print(\"Outliers rows \"\"%\",percentage_outliers)\n",
    "    \n",
    "    if percentage_outliers < limit:        \n",
    "        mask = (df[col] >= l_limit) & (df[col] <= u_limit)\n",
    "\n",
    "        filtered_df = df[mask]\n",
    "        print(f\"Removed {df.shape[0] - filtered_df.shape[0]} rows\")\n",
    "        print(sns.boxplot(y=col, data=filtered_df))\n",
    "        \n",
    "        if remove:\n",
    "            return filtered_df\n",
    "        else:\n",
    "            return df\n",
    "    else:\n",
    "        print(f\"No outliers removed, exceeding limit of {limit}%\")\n",
    "        return df;"
   ]
  },
  {
   "cell_type": "code",
   "execution_count": 422,
   "id": "7b09c94e",
   "metadata": {
    "scrolled": true
   },
   "outputs": [
    {
     "data": {
      "image/png": "[encoded data removed]",
      "text/plain": [
       "<Figure size 640x480 with 1 Axes>"
      ]
     },
     "metadata": {},
     "output_type": "display_data"
    },
    {
     "data": {
      "image/png": "[encoded data removed]",
      "text/plain": [
       "<Figure size 640x480 with 1 Axes>"
      ]
     },
     "metadata": {},
     "output_type": "display_data"
    },
    {
     "data": {
      "image/png": "[encoded data removed]",
      "text/plain": [
       "<Figure size 640x480 with 1 Axes>"
      ]
     },
     "metadata": {},
     "output_type": "display_data"
    },
    {
     "data": {
      "image/png": "[encoded data removed]",
      "text/plain": [
       "<Figure size 640x480 with 1 Axes>"
      ]
     },
     "metadata": {},
     "output_type": "display_data"
    },
    {
     "data": {
      "image/png": "[encoded data removed]",
      "text/plain": [
       "<Figure size 640x480 with 1 Axes>"
      ]
     },
     "metadata": {},
     "output_type": "display_data"
    }
   ],
   "source": [
    "# Checking for outliers\n",
    "for col in data.select_dtypes(np.number).columns:\n",
    "    sns.boxplot(y=col, data= data.select_dtypes(np.number))\n",
    "    plt.show()"
   ]
  },
  {
   "cell_type": "code",
   "execution_count": 423,
   "id": "698cc2d7",
   "metadata": {},
   "outputs": [],
   "source": [
    "# Create data backup before proceeding\n",
    "data_bak1 = data"
   ]
  },
  {
   "cell_type": "code",
   "execution_count": 424,
   "id": "8ab11873",
   "metadata": {},
   "outputs": [
    {
     "name": "stdout",
     "output_type": "stream",
     "text": [
      "Using limit: 4,u_iqr: 1.5, l_iqr: 1.67\n",
      "DataFrame shape: (17998, 16)\n",
      "Column  average_balance outliers shape: (715, 16)\n",
      "Outliers rows % 3.972663629292143\n",
      "Removed 715 rows\n",
      "Axes(0.125,0.11;0.775x0.77)\n"
     ]
    },
    {
     "data": {
      "image/png": "[encoded data removed]",
      "text/plain": [
       "<Figure size 640x480 with 1 Axes>"
      ]
     },
     "metadata": {},
     "output_type": "display_data"
    }
   ],
   "source": [
    "# Column: average_balance\n",
    "data = process_outliers(data,\"average_balance\", 4,1.5,1.67,True)"
   ]
  },
  {
   "cell_type": "code",
   "execution_count": 425,
   "id": "0da8fb16",
   "metadata": {},
   "outputs": [
    {
     "data": {
      "image/png": "[encoded data removed]",
      "text/plain": [
       "<Figure size 640x480 with 1 Axes>"
      ]
     },
     "metadata": {},
     "output_type": "display_data"
    },
    {
     "data": {
      "image/png": "[encoded data removed]",
      "text/plain": [
       "<Figure size 640x480 with 1 Axes>"
      ]
     },
     "metadata": {},
     "output_type": "display_data"
    },
    {
     "data": {
      "image/png": "[encoded data removed]",
      "text/plain": [
       "<Figure size 640x480 with 1 Axes>"
      ]
     },
     "metadata": {},
     "output_type": "display_data"
    },
    {
     "data": {
      "image/png": "[encoded data removed]",
      "text/plain": [
       "<Figure size 640x480 with 1 Axes>"
      ]
     },
     "metadata": {},
     "output_type": "display_data"
    },
    {
     "data": {
      "image/png": "[encoded data removed]",
      "text/plain": [
       "<Figure size 640x480 with 1 Axes>"
      ]
     },
     "metadata": {},
     "output_type": "display_data"
    }
   ],
   "source": [
    "# Checking for outliers again to see how it impacted the other columns\n",
    "for col in data.select_dtypes(np.number).columns:\n",
    "    sns.boxplot(y=col, data= data.select_dtypes(np.number))\n",
    "    plt.show()"
   ]
  },
  {
   "cell_type": "code",
   "execution_count": 426,
   "id": "85a00044",
   "metadata": {},
   "outputs": [
    {
     "name": "stdout",
     "output_type": "stream",
     "text": [
      "Using limit: 4,u_iqr: 1.5, l_iqr: 1.5\n",
      "DataFrame shape: (17283, 16)\n",
      "Column  q4_balance outliers shape: (1, 16)\n",
      "Outliers rows % 0.005786032517502748\n",
      "Removed 1 rows\n",
      "Axes(0.125,0.11;0.775x0.77)\n"
     ]
    },
    {
     "data": {
      "image/png": "[encoded data removed]",
      "text/plain": [
       "<Figure size 640x480 with 1 Axes>"
      ]
     },
     "metadata": {},
     "output_type": "display_data"
    }
   ],
   "source": [
    "# Removing 1 outlier for q4_balance\n",
    "data = process_outliers(data,\"q4_balance\", 4,1.5,1.5,True)"
   ]
  },
  {
   "cell_type": "code",
   "execution_count": 427,
   "id": "fad7af28",
   "metadata": {},
   "outputs": [
    {
     "data": {
      "text/plain": [
       "<Axes: >"
      ]
     },
     "execution_count": 427,
     "metadata": {},
     "output_type": "execute_result"
    },
    {
     "data": {
      "image/png": "[encoded data removed]",
      "text/plain": [
       "<Figure size 640x480 with 2 Axes>"
      ]
     },
     "metadata": {},
     "output_type": "display_data"
    }
   ],
   "source": [
    "# Checking correlation\n",
    "sns.heatmap(data.select_dtypes(np.number).corr(method=\"pearson\"), annot=True)"
   ]
  },
  {
   "cell_type": "code",
   "execution_count": 428,
   "id": "9ac31f49",
   "metadata": {},
   "outputs": [],
   "source": [
    "# Dropping column average_balance due to high correlation between 2 other columns\n",
    "data.drop([\"average_balance\"], axis=1, inplace=True)"
   ]
  },
  {
   "cell_type": "code",
   "execution_count": 429,
   "id": "2b340041",
   "metadata": {},
   "outputs": [
    {
     "name": "stdout",
     "output_type": "stream",
     "text": [
      "column: offer_accepted, p-value: 0.0\n",
      "column: reward, p-value: 1.1399196312282074e-21\n",
      "column: mailer_type, p-value: 4.018347743068315e-38\n",
      "column: income_level, p-value: 7.630213130703139e-25\n",
      "column: overdraft_protection, p-value: 0.5756668996240613\n",
      "column: credit_rating, p-value: 1.2784994151799617e-93\n",
      "column: own_your_home, p-value: 0.8921378040029516\n",
      "column: bank_accounts_open_, p-value: 0.6643107814112417\n",
      "column: credit_cards_held_, p-value: 0.7021791691732744\n",
      "column: homes_owned_, p-value: 0.5845681863986334\n"
     ]
    }
   ],
   "source": [
    "# Running chi2 for every categorical column with the target\n",
    "for col in data.select_dtypes(\"object\").columns:\n",
    "    # Running chi2\n",
    "    crosstab_table = pd.crosstab(data[col], data['offer_accepted'])\n",
    "    # Perform the test\n",
    "    stat, p_value, dof, expected = chi2_contingency(crosstab_table)\n",
    "    # Print results\n",
    "    print(f\"column: {col}, p-value: {p_value}\")"
   ]
  },
  {
   "cell_type": "code",
   "execution_count": 430,
   "id": "4c818ee4",
   "metadata": {},
   "outputs": [],
   "source": [
    "# After running chi2, noticed multiple columns that doesn't fall below 0.5\n",
    "# homes_owned_, credit_cards_held_, bank_accounts_open_, own_your_home and overdraft_protection\n",
    "# TODO: Run models with the columns and without to compare results"
   ]
  },
  {
   "cell_type": "code",
   "execution_count": 431,
   "id": "29b6247a",
   "metadata": {},
   "outputs": [],
   "source": [
    "#data.drop([\"homes_owned_\",\"credit_cards_held_\",\"bank_accounts_open_\",\"own_your_home\", \"overdraft_protection\"], axis=1, inplace=True)"
   ]
  },
  {
   "cell_type": "code",
   "execution_count": 432,
   "id": "aaff6338",
   "metadata": {},
   "outputs": [],
   "source": [
    "# Data transformation\n",
    "# First we separate categoricals, numericals and the target\n",
    "target = data[\"offer_accepted\"]\n",
    "# Removing target\n",
    "data.drop([\"offer_accepted\"], axis=1, inplace=True)\n",
    "#\n",
    "numericals = data.select_dtypes(np.number)\n",
    "categoricals = data.select_dtypes(\"object\")"
   ]
  },
  {
   "cell_type": "code",
   "execution_count": 433,
   "id": "6404e33b",
   "metadata": {},
   "outputs": [
    {
     "data": {
      "text/html": [
       "<div>\n",
       "<style scoped>\n",
       "    .dataframe tbody tr th:only-of-type {\n",
       "        vertical-align: middle;\n",
       "    }\n",
       "\n",
       "    .dataframe tbody tr th {\n",
       "        vertical-align: top;\n",
       "    }\n",
       "\n",
       "    .dataframe thead th {\n",
       "        text-align: right;\n",
       "    }\n",
       "</style>\n",
       "<table border=\"1\" class=\"dataframe\">\n",
       "  <thead>\n",
       "    <tr style=\"text-align: right;\">\n",
       "      <th></th>\n",
       "      <th>0</th>\n",
       "      <th>1</th>\n",
       "      <th>2</th>\n",
       "      <th>3</th>\n",
       "      <th>4</th>\n",
       "      <th>5</th>\n",
       "      <th>6</th>\n",
       "      <th>7</th>\n",
       "      <th>8</th>\n",
       "      <th>9</th>\n",
       "      <th>10</th>\n",
       "      <th>11</th>\n",
       "      <th>12</th>\n",
       "      <th>13</th>\n",
       "      <th>14</th>\n",
       "      <th>15</th>\n",
       "    </tr>\n",
       "  </thead>\n",
       "  <tbody>\n",
       "    <tr>\n",
       "      <th>0</th>\n",
       "      <td>0.0</td>\n",
       "      <td>0.0</td>\n",
       "      <td>0.0</td>\n",
       "      <td>0.0</td>\n",
       "      <td>0.0</td>\n",
       "      <td>0.0</td>\n",
       "      <td>0.0</td>\n",
       "      <td>0.0</td>\n",
       "      <td>0.0</td>\n",
       "      <td>0.0</td>\n",
       "      <td>0.0</td>\n",
       "      <td>1.0</td>\n",
       "      <td>0.0</td>\n",
       "      <td>0.0</td>\n",
       "      <td>0.0</td>\n",
       "      <td>0.0</td>\n",
       "    </tr>\n",
       "    <tr>\n",
       "      <th>1</th>\n",
       "      <td>0.0</td>\n",
       "      <td>0.0</td>\n",
       "      <td>1.0</td>\n",
       "      <td>0.0</td>\n",
       "      <td>0.0</td>\n",
       "      <td>0.0</td>\n",
       "      <td>0.0</td>\n",
       "      <td>1.0</td>\n",
       "      <td>1.0</td>\n",
       "      <td>0.0</td>\n",
       "      <td>1.0</td>\n",
       "      <td>1.0</td>\n",
       "      <td>0.0</td>\n",
       "      <td>0.0</td>\n",
       "      <td>0.0</td>\n",
       "      <td>0.0</td>\n",
       "    </tr>\n",
       "    <tr>\n",
       "      <th>2</th>\n",
       "      <td>0.0</td>\n",
       "      <td>0.0</td>\n",
       "      <td>0.0</td>\n",
       "      <td>0.0</td>\n",
       "      <td>1.0</td>\n",
       "      <td>0.0</td>\n",
       "      <td>0.0</td>\n",
       "      <td>0.0</td>\n",
       "      <td>0.0</td>\n",
       "      <td>0.0</td>\n",
       "      <td>1.0</td>\n",
       "      <td>0.0</td>\n",
       "      <td>1.0</td>\n",
       "      <td>0.0</td>\n",
       "      <td>0.0</td>\n",
       "      <td>0.0</td>\n",
       "    </tr>\n",
       "    <tr>\n",
       "      <th>3</th>\n",
       "      <td>0.0</td>\n",
       "      <td>0.0</td>\n",
       "      <td>0.0</td>\n",
       "      <td>0.0</td>\n",
       "      <td>1.0</td>\n",
       "      <td>0.0</td>\n",
       "      <td>0.0</td>\n",
       "      <td>1.0</td>\n",
       "      <td>1.0</td>\n",
       "      <td>0.0</td>\n",
       "      <td>0.0</td>\n",
       "      <td>1.0</td>\n",
       "      <td>0.0</td>\n",
       "      <td>0.0</td>\n",
       "      <td>0.0</td>\n",
       "      <td>0.0</td>\n",
       "    </tr>\n",
       "    <tr>\n",
       "      <th>4</th>\n",
       "      <td>0.0</td>\n",
       "      <td>0.0</td>\n",
       "      <td>0.0</td>\n",
       "      <td>0.0</td>\n",
       "      <td>1.0</td>\n",
       "      <td>0.0</td>\n",
       "      <td>0.0</td>\n",
       "      <td>0.0</td>\n",
       "      <td>0.0</td>\n",
       "      <td>0.0</td>\n",
       "      <td>0.0</td>\n",
       "      <td>0.0</td>\n",
       "      <td>0.0</td>\n",
       "      <td>1.0</td>\n",
       "      <td>0.0</td>\n",
       "      <td>0.0</td>\n",
       "    </tr>\n",
       "    <tr>\n",
       "      <th>...</th>\n",
       "      <td>...</td>\n",
       "      <td>...</td>\n",
       "      <td>...</td>\n",
       "      <td>...</td>\n",
       "      <td>...</td>\n",
       "      <td>...</td>\n",
       "      <td>...</td>\n",
       "      <td>...</td>\n",
       "      <td>...</td>\n",
       "      <td>...</td>\n",
       "      <td>...</td>\n",
       "      <td>...</td>\n",
       "      <td>...</td>\n",
       "      <td>...</td>\n",
       "      <td>...</td>\n",
       "      <td>...</td>\n",
       "    </tr>\n",
       "    <tr>\n",
       "      <th>95</th>\n",
       "      <td>1.0</td>\n",
       "      <td>0.0</td>\n",
       "      <td>0.0</td>\n",
       "      <td>0.0</td>\n",
       "      <td>0.0</td>\n",
       "      <td>0.0</td>\n",
       "      <td>1.0</td>\n",
       "      <td>0.0</td>\n",
       "      <td>1.0</td>\n",
       "      <td>0.0</td>\n",
       "      <td>1.0</td>\n",
       "      <td>1.0</td>\n",
       "      <td>0.0</td>\n",
       "      <td>0.0</td>\n",
       "      <td>0.0</td>\n",
       "      <td>0.0</td>\n",
       "    </tr>\n",
       "    <tr>\n",
       "      <th>96</th>\n",
       "      <td>1.0</td>\n",
       "      <td>0.0</td>\n",
       "      <td>1.0</td>\n",
       "      <td>0.0</td>\n",
       "      <td>1.0</td>\n",
       "      <td>0.0</td>\n",
       "      <td>0.0</td>\n",
       "      <td>0.0</td>\n",
       "      <td>1.0</td>\n",
       "      <td>0.0</td>\n",
       "      <td>0.0</td>\n",
       "      <td>1.0</td>\n",
       "      <td>0.0</td>\n",
       "      <td>0.0</td>\n",
       "      <td>1.0</td>\n",
       "      <td>0.0</td>\n",
       "    </tr>\n",
       "    <tr>\n",
       "      <th>97</th>\n",
       "      <td>0.0</td>\n",
       "      <td>1.0</td>\n",
       "      <td>0.0</td>\n",
       "      <td>1.0</td>\n",
       "      <td>0.0</td>\n",
       "      <td>0.0</td>\n",
       "      <td>0.0</td>\n",
       "      <td>0.0</td>\n",
       "      <td>1.0</td>\n",
       "      <td>0.0</td>\n",
       "      <td>0.0</td>\n",
       "      <td>0.0</td>\n",
       "      <td>1.0</td>\n",
       "      <td>0.0</td>\n",
       "      <td>0.0</td>\n",
       "      <td>0.0</td>\n",
       "    </tr>\n",
       "    <tr>\n",
       "      <th>98</th>\n",
       "      <td>1.0</td>\n",
       "      <td>0.0</td>\n",
       "      <td>0.0</td>\n",
       "      <td>1.0</td>\n",
       "      <td>0.0</td>\n",
       "      <td>0.0</td>\n",
       "      <td>1.0</td>\n",
       "      <td>0.0</td>\n",
       "      <td>1.0</td>\n",
       "      <td>0.0</td>\n",
       "      <td>0.0</td>\n",
       "      <td>1.0</td>\n",
       "      <td>0.0</td>\n",
       "      <td>0.0</td>\n",
       "      <td>0.0</td>\n",
       "      <td>1.0</td>\n",
       "    </tr>\n",
       "    <tr>\n",
       "      <th>99</th>\n",
       "      <td>0.0</td>\n",
       "      <td>0.0</td>\n",
       "      <td>1.0</td>\n",
       "      <td>0.0</td>\n",
       "      <td>1.0</td>\n",
       "      <td>0.0</td>\n",
       "      <td>1.0</td>\n",
       "      <td>0.0</td>\n",
       "      <td>1.0</td>\n",
       "      <td>0.0</td>\n",
       "      <td>0.0</td>\n",
       "      <td>0.0</td>\n",
       "      <td>0.0</td>\n",
       "      <td>1.0</td>\n",
       "      <td>0.0</td>\n",
       "      <td>0.0</td>\n",
       "    </tr>\n",
       "  </tbody>\n",
       "</table>\n",
       "<p>100 rows × 16 columns</p>\n",
       "</div>"
      ],
      "text/plain": [
       "     0    1    2    3    4    5    6    7    8    9    10   11   12   13   14  \\\n",
       "0   0.0  0.0  0.0  0.0  0.0  0.0  0.0  0.0  0.0  0.0  0.0  1.0  0.0  0.0  0.0   \n",
       "1   0.0  0.0  1.0  0.0  0.0  0.0  0.0  1.0  1.0  0.0  1.0  1.0  0.0  0.0  0.0   \n",
       "2   0.0  0.0  0.0  0.0  1.0  0.0  0.0  0.0  0.0  0.0  1.0  0.0  1.0  0.0  0.0   \n",
       "3   0.0  0.0  0.0  0.0  1.0  0.0  0.0  1.0  1.0  0.0  0.0  1.0  0.0  0.0  0.0   \n",
       "4   0.0  0.0  0.0  0.0  1.0  0.0  0.0  0.0  0.0  0.0  0.0  0.0  0.0  1.0  0.0   \n",
       "..  ...  ...  ...  ...  ...  ...  ...  ...  ...  ...  ...  ...  ...  ...  ...   \n",
       "95  1.0  0.0  0.0  0.0  0.0  0.0  1.0  0.0  1.0  0.0  1.0  1.0  0.0  0.0  0.0   \n",
       "96  1.0  0.0  1.0  0.0  1.0  0.0  0.0  0.0  1.0  0.0  0.0  1.0  0.0  0.0  1.0   \n",
       "97  0.0  1.0  0.0  1.0  0.0  0.0  0.0  0.0  1.0  0.0  0.0  0.0  1.0  0.0  0.0   \n",
       "98  1.0  0.0  0.0  1.0  0.0  0.0  1.0  0.0  1.0  0.0  0.0  1.0  0.0  0.0  0.0   \n",
       "99  0.0  0.0  1.0  0.0  1.0  0.0  1.0  0.0  1.0  0.0  0.0  0.0  0.0  1.0  0.0   \n",
       "\n",
       "     15  \n",
       "0   0.0  \n",
       "1   0.0  \n",
       "2   0.0  \n",
       "3   0.0  \n",
       "4   0.0  \n",
       "..  ...  \n",
       "95  0.0  \n",
       "96  0.0  \n",
       "97  0.0  \n",
       "98  1.0  \n",
       "99  0.0  \n",
       "\n",
       "[100 rows x 16 columns]"
      ]
     },
     "execution_count": 433,
     "metadata": {},
     "output_type": "execute_result"
    }
   ],
   "source": [
    "# Categoricals encoding\n",
    "categoricals_encoded = OneHotEncoder(drop='first').fit_transform(categoricals).toarray()\n",
    "categoricals_encoded_df = pd.DataFrame(categoricals_encoded)\n",
    "categoricals_encoded_df.head(100)"
   ]
  },
  {
   "cell_type": "code",
   "execution_count": 434,
   "id": "882b78d8",
   "metadata": {},
   "outputs": [
    {
     "data": {
      "text/html": [
       "<div>\n",
       "<style scoped>\n",
       "    .dataframe tbody tr th:only-of-type {\n",
       "        vertical-align: middle;\n",
       "    }\n",
       "\n",
       "    .dataframe tbody tr th {\n",
       "        vertical-align: top;\n",
       "    }\n",
       "\n",
       "    .dataframe thead th {\n",
       "        text-align: right;\n",
       "    }\n",
       "</style>\n",
       "<table border=\"1\" class=\"dataframe\">\n",
       "  <thead>\n",
       "    <tr style=\"text-align: right;\">\n",
       "      <th></th>\n",
       "      <th>0</th>\n",
       "      <th>1</th>\n",
       "      <th>2</th>\n",
       "      <th>3</th>\n",
       "    </tr>\n",
       "  </thead>\n",
       "  <tbody>\n",
       "    <tr>\n",
       "      <th>0</th>\n",
       "      <td>1.234187</td>\n",
       "      <td>-0.302778</td>\n",
       "      <td>0.079731</td>\n",
       "      <td>0.351197</td>\n",
       "    </tr>\n",
       "    <tr>\n",
       "      <th>1</th>\n",
       "      <td>-0.899229</td>\n",
       "      <td>-1.515163</td>\n",
       "      <td>-1.692680</td>\n",
       "      <td>-1.044477</td>\n",
       "    </tr>\n",
       "    <tr>\n",
       "      <th>2</th>\n",
       "      <td>1.085077</td>\n",
       "      <td>1.736338</td>\n",
       "      <td>0.124508</td>\n",
       "      <td>-0.719432</td>\n",
       "    </tr>\n",
       "    <tr>\n",
       "      <th>3</th>\n",
       "      <td>2.005953</td>\n",
       "      <td>0.805688</td>\n",
       "      <td>-0.131093</td>\n",
       "      <td>-0.818599</td>\n",
       "    </tr>\n",
       "    <tr>\n",
       "      <th>4</th>\n",
       "      <td>1.525852</td>\n",
       "      <td>0.824163</td>\n",
       "      <td>-0.563934</td>\n",
       "      <td>-0.576192</td>\n",
       "    </tr>\n",
       "    <tr>\n",
       "      <th>5</th>\n",
       "      <td>-0.733734</td>\n",
       "      <td>-1.893890</td>\n",
       "      <td>-1.315809</td>\n",
       "      <td>-1.246483</td>\n",
       "    </tr>\n",
       "    <tr>\n",
       "      <th>6</th>\n",
       "      <td>-1.284293</td>\n",
       "      <td>-1.425101</td>\n",
       "      <td>-1.431482</td>\n",
       "      <td>-0.926947</td>\n",
       "    </tr>\n",
       "    <tr>\n",
       "      <th>7</th>\n",
       "      <td>-0.035704</td>\n",
       "      <td>-0.270448</td>\n",
       "      <td>-0.317662</td>\n",
       "      <td>0.995778</td>\n",
       "    </tr>\n",
       "    <tr>\n",
       "      <th>8</th>\n",
       "      <td>1.471779</td>\n",
       "      <td>1.029691</td>\n",
       "      <td>-1.004238</td>\n",
       "      <td>-1.277702</td>\n",
       "    </tr>\n",
       "    <tr>\n",
       "      <th>9</th>\n",
       "      <td>-0.251995</td>\n",
       "      <td>-0.418244</td>\n",
       "      <td>0.749515</td>\n",
       "      <td>1.262058</td>\n",
       "    </tr>\n",
       "  </tbody>\n",
       "</table>\n",
       "</div>"
      ],
      "text/plain": [
       "          0         1         2         3\n",
       "0  1.234187 -0.302778  0.079731  0.351197\n",
       "1 -0.899229 -1.515163 -1.692680 -1.044477\n",
       "2  1.085077  1.736338  0.124508 -0.719432\n",
       "3  2.005953  0.805688 -0.131093 -0.818599\n",
       "4  1.525852  0.824163 -0.563934 -0.576192\n",
       "5 -0.733734 -1.893890 -1.315809 -1.246483\n",
       "6 -1.284293 -1.425101 -1.431482 -0.926947\n",
       "7 -0.035704 -0.270448 -0.317662  0.995778\n",
       "8  1.471779  1.029691 -1.004238 -1.277702\n",
       "9 -0.251995 -0.418244  0.749515  1.262058"
      ]
     },
     "execution_count": 434,
     "metadata": {},
     "output_type": "execute_result"
    }
   ],
   "source": [
    "# Numericals encoding\n",
    "numericals_scaled_df = StandardScaler().fit_transform(numericals)\n",
    "numericals_scaled_df = pd.DataFrame(scaled)\n",
    "numericals_scaled_df.head(10)"
   ]
  },
  {
   "cell_type": "code",
   "execution_count": 435,
   "id": "0a8fb2c2",
   "metadata": {},
   "outputs": [],
   "source": [
    "# # Concatenating both processed dataframes\n",
    "features_encoded = pd.concat([categoricals_encoded_df, numericals_scaled_df], axis = 1)\n",
    "# Training\n",
    "x_train, x_test, y_train, y_test = train_test_split(features_encoded , target, test_size=.2, random_state=10)"
   ]
  },
  {
   "cell_type": "code",
   "execution_count": 444,
   "id": "350922a8",
   "metadata": {},
   "outputs": [],
   "source": [
    "# Decided to use LogisticRegression as a baseline, others 2 are more suitable for the\n",
    "def run_algorithms(x_train, y_train,x_test, neighbors = 5):\n",
    "    dtc = DecisionTreeClassifier()\n",
    "    lr = LogisticRegression()\n",
    "    kn = KNeighborsClassifier(n_neighbors=neighbors)\n",
    "    \n",
    "    models = [dtc,lr,kn]\n",
    "    \n",
    "    for model in models:\n",
    "        model.fit(x_train, y_train)\n",
    "        y_pred = model.predict(x_test)\n",
    "        print(f\"{model} score: {accuracy_score(y_test,y_pred)}\")"
   ]
  },
  {
   "cell_type": "code",
   "execution_count": 449,
   "id": "0738b397",
   "metadata": {},
   "outputs": [
    {
     "name": "stdout",
     "output_type": "stream",
     "text": [
      "DecisionTreeClassifier() score: 0.8947063928261498\n",
      "LogisticRegression() score: 0.9459068556551924\n",
      "KNeighborsClassifier(n_neighbors=7) score: 0.9456175875036158\n"
     ]
    }
   ],
   "source": [
    "run_algorithms(x_train, y_train, x_test, 7)"
   ]
  },
  {
   "cell_type": "code",
   "execution_count": 438,
   "id": "1a40e0af",
   "metadata": {},
   "outputs": [],
   "source": [
    "# Scores removing the categoricals in the chi2 step\n",
    "\n",
    "# DecisionTreeClassifier() score: 0.8955741972808794\n",
    "# LogisticRegression() score: 0.9459068556551924\n",
    "# KNeighborsClassifier() score: 0.9427249059878507"
   ]
  },
  {
   "cell_type": "code",
   "execution_count": 450,
   "id": "d1a5758b",
   "metadata": {},
   "outputs": [
    {
     "name": "stdout",
     "output_type": "stream",
     "text": [
      "[0.9409892970783916, 0.9459068556551924, 0.9459068556551924, 0.9459068556551924, 0.9459068556551924, 0.9459068556551924, 0.9459068556551924, 0.9459068556551924, 0.9459068556551924, 0.9459068556551924]\n"
     ]
    },
    {
     "data": {
      "text/plain": [
       "Text(0, 0.5, 'Accuracy')"
      ]
     },
     "execution_count": 450,
     "metadata": {},
     "output_type": "execute_result"
    },
    {
     "data": {
      "image/png": "[encoded data removed]",
      "text/plain": [
       "<Figure size 1000x600 with 1 Axes>"
      ]
     },
     "metadata": {},
     "output_type": "display_data"
    }
   ],
   "source": [
    "# Deeper with KNeighbors\n",
    "scores = []\n",
    "complexity = []\n",
    "for i in range(2,100, 10):\n",
    "    model = KNeighborsClassifier(n_neighbors=i)\n",
    "    model.fit(x_train, y_train)\n",
    "    \n",
    "    y_pred = model.predict(x_test)\n",
    "    score = accuracy_score(y_test,y_pred)\n",
    "    \n",
    "    complexity.append(np.log(1/i))\n",
    "    scores.append(score)\n",
    "print(scores)\n",
    "plt.figure(figsize=(10,6))\n",
    "plt.plot(complexity,scores,color = 'green',linestyle='dashed', \n",
    "         marker='o',markerfacecolor='red', markersize=10)\n",
    "plt.title('accuracy scores vs. K Value')\n",
    "plt.xlabel('K')\n",
    "plt.ylabel('Accuracy')"
   ]
  },
  {
   "cell_type": "code",
   "execution_count": null,
   "id": "a0f91dd0",
   "metadata": {},
   "outputs": [],
   "source": []
  },
  {
   "cell_type": "code",
   "execution_count": null,
   "id": "58e6db28",
   "metadata": {},
   "outputs": [],
   "source": []
  },
  {
   "cell_type": "code",
   "execution_count": null,
   "id": "97d1175e",
   "metadata": {},
   "outputs": [],
   "source": []
  },
  {
   "cell_type": "code",
   "execution_count": null,
   "id": "d36dca54",
   "metadata": {},
   "outputs": [],
   "source": []
  },
  {
   "cell_type": "code",
   "execution_count": null,
   "id": "0dddf2e2",
   "metadata": {},
   "outputs": [],
   "source": []
  },
  {
   "cell_type": "code",
   "execution_count": null,
   "id": "74b5615c",
   "metadata": {},
   "outputs": [],
   "source": []
  },
  {
   "cell_type": "code",
   "execution_count": null,
   "id": "be906bc9",
   "metadata": {
    "scrolled": false
   },
   "outputs": [],
   "source": []
  },
  {
   "cell_type": "code",
   "execution_count": null,
   "id": "ee8ed8ae",
   "metadata": {},
   "outputs": [],
   "source": []
  },
  {
   "cell_type": "code",
   "execution_count": null,
   "id": "47697038",
   "metadata": {
    "scrolled": false
   },
   "outputs": [],
   "source": []
  },
  {
   "cell_type": "code",
   "execution_count": null,
   "id": "ef4774fe",
   "metadata": {},
   "outputs": [],
   "source": []
  },
  {
   "cell_type": "code",
   "execution_count": null,
   "id": "01e798c5",
   "metadata": {},
   "outputs": [],
   "source": []
  },
  {
   "cell_type": "code",
   "execution_count": null,
   "id": "ea8ca28c",
   "metadata": {},
   "outputs": [],
   "source": []
  },
  {
   "cell_type": "code",
   "execution_count": null,
   "id": "c26f2f5d",
   "metadata": {},
   "outputs": [],
   "source": []
  },
  {
   "cell_type": "code",
   "execution_count": null,
   "id": "6c3f91e7",
   "metadata": {},
   "outputs": [],
   "source": []
  },
  {
   "cell_type": "code",
   "execution_count": null,
   "id": "eb088281",
   "metadata": {},
   "outputs": [],
   "source": []
  },
  {
   "cell_type": "code",
   "execution_count": null,
   "id": "7a2aed5f",
   "metadata": {},
   "outputs": [],
   "source": []
  },
  {
   "cell_type": "code",
   "execution_count": null,
   "id": "0088a314",
   "metadata": {},
   "outputs": [],
   "source": []
  },
  {
   "cell_type": "code",
   "execution_count": null,
   "id": "dfbd9f44",
   "metadata": {},
   "outputs": [],
   "source": []
  },
  {
   "cell_type": "code",
   "execution_count": null,
   "id": "bfdf4f7b",
   "metadata": {},
   "outputs": [],
   "source": []
  },
  {
   "cell_type": "code",
   "execution_count": null,
   "id": "71fb098f",
   "metadata": {},
   "outputs": [],
   "source": []
  },
  {
   "cell_type": "code",
   "execution_count": null,
   "id": "7d4303ab",
   "metadata": {
    "scrolled": false
   },
   "outputs": [],
   "source": []
  },
  {
   "cell_type": "code",
   "execution_count": null,
   "id": "2a9b7abb",
   "metadata": {},
   "outputs": [],
   "source": []
  },
  {
   "cell_type": "code",
   "execution_count": null,
   "id": "724922e2",
   "metadata": {
    "scrolled": false
   },
   "outputs": [],
   "source": []
  },
  {
   "cell_type": "code",
   "execution_count": null,
   "id": "3217c4ae",
   "metadata": {},
   "outputs": [],
   "source": []
  },
  {
   "cell_type": "code",
   "execution_count": null,
   "id": "457658f2",
   "metadata": {},
   "outputs": [],
   "source": []
  },
  {
   "cell_type": "code",
   "execution_count": null,
   "id": "978b26f9",
   "metadata": {},
   "outputs": [],
   "source": []
  },
  {
   "cell_type": "code",
   "execution_count": null,
   "id": "cf2e5d59",
   "metadata": {},
   "outputs": [],
   "source": []
  },
  {
   "cell_type": "code",
   "execution_count": null,
   "id": "b00a0656",
   "metadata": {},
   "outputs": [],
   "source": []
  },
  {
   "cell_type": "code",
   "execution_count": null,
   "id": "9322bb0e",
   "metadata": {},
   "outputs": [],
   "source": []
  },
  {
   "cell_type": "code",
   "execution_count": null,
   "id": "aeafc400",
   "metadata": {},
   "outputs": [],
   "source": []
  },
  {
   "cell_type": "code",
   "execution_count": null,
   "id": "90478963",
   "metadata": {},
   "outputs": [],
   "source": []
  },
  {
   "cell_type": "code",
   "execution_count": null,
   "id": "a8dd845c",
   "metadata": {},
   "outputs": [],
   "source": []
  },
  {
   "cell_type": "code",
   "execution_count": null,
   "id": "932f96a8",
   "metadata": {},
   "outputs": [],
   "source": []
  },
  {
   "cell_type": "code",
   "execution_count": null,
   "id": "07361ed4",
   "metadata": {},
   "outputs": [],
   "source": []
  },
  {
   "cell_type": "code",
   "execution_count": null,
   "id": "9ae2f8f6",
   "metadata": {},
   "outputs": [],
   "source": []
  },
  {
   "cell_type": "code",
   "execution_count": null,
   "id": "1b431301",
   "metadata": {},
   "outputs": [],
   "source": []
  },
  {
   "cell_type": "code",
   "execution_count": null,
   "id": "dafb81d4",
   "metadata": {},
   "outputs": [],
   "source": []
  },
  {
   "cell_type": "code",
   "execution_count": null,
   "id": "26d76ee3",
   "metadata": {},
   "outputs": [],
   "source": []
  },
  {
   "cell_type": "code",
   "execution_count": null,
   "id": "e517ff1f",
   "metadata": {},
   "outputs": [],
   "source": []
  },
  {
   "cell_type": "code",
   "execution_count": null,
   "id": "c56b326a",
   "metadata": {},
   "outputs": [],
   "source": []
  },
  {
   "cell_type": "code",
   "execution_count": null,
   "id": "9fd38708",
   "metadata": {},
   "outputs": [],
   "source": []
  },
  {
   "cell_type": "code",
   "execution_count": null,
   "id": "eb0578d3",
   "metadata": {},
   "outputs": [],
   "source": []
  },
  {
   "cell_type": "code",
   "execution_count": null,
   "id": "6b2e04df",
   "metadata": {},
   "outputs": [],
   "source": []
  },
  {
   "cell_type": "code",
   "execution_count": null,
   "id": "517b5026",
   "metadata": {},
   "outputs": [],
   "source": []
  },
  {
   "cell_type": "code",
   "execution_count": null,
   "id": "114e9072",
   "metadata": {},
   "outputs": [],
   "source": []
  },
  {
   "cell_type": "code",
   "execution_count": null,
   "id": "ee6f9829",
   "metadata": {},
   "outputs": [],
   "source": []
  },
  {
   "cell_type": "code",
   "execution_count": null,
   "id": "81d0f8d5",
   "metadata": {},
   "outputs": [],
   "source": []
  },
  {
   "cell_type": "code",
   "execution_count": null,
   "id": "495b16a7",
   "metadata": {},
   "outputs": [],
   "source": []
  }
 ],
 "metadata": {
  "kernelspec": {
   "display_name": "Python 3 (ipykernel)",
   "language": "python",
   "name": "python3"
  },
  "language_info": {
   "codemirror_mode": {
    "name": "ipython",
    "version": 3
   },
   "file_extension": ".py",
   "mimetype": "text/x-python",
   "name": "python",
   "nbconvert_exporter": "python",
   "pygments_lexer": "ipython3",
   "version": "3.11.4"
  }
 },
 "nbformat": 4,
 "nbformat_minor": 5
}
